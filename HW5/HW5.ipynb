{
  "cells": [
    {
      "cell_type": "markdown",
      "metadata": {
        "id": "rhNW-mjp-xe3"
      },
      "source": [
        "# Homework 5 RF Accuracy Improvement\n",
        "\n",
        "This assignment is inspired by examples of Shan-Hung Wu from National Tsing Hua University.\n",
        "\n",
        "Requirement: improve the accuracy per feature of the following code from 0.03 up to at least 0.40 and accuracy should be more than 0.92\n",
        "\n",
        "Here are three hints:\n",
        "\n",
        "    You can improve the ratio by picking out or \"creating\" several features.\n",
        "    Tune hyperparameters\n",
        "    The ratio can be improved from 0.03 up to 0.47."
      ]
    },
    {
      "cell_type": "code",
      "execution_count": 43,
      "metadata": {
        "colab": {
          "base_uri": "https://localhost:8080/"
        },
        "id": "v3mp2Vwc-xe3",
        "outputId": "13b830bf-c4bf-4e00-c11a-b4086ed26d5b"
      },
      "outputs": [
        {
          "output_type": "stream",
          "name": "stdout",
          "text": [
            "[0.92105263 0.93859649 0.96491228 0.95614035 0.96460177] \n",
            " [0, 1, 4, 5, 11]\n",
            "5 fold cross validation score: 0.9491\n"
          ]
        }
      ],
      "source": [
        "from collections import defaultdict\n",
        "\n",
        "import matplotlib.pyplot as plt\n",
        "import numpy as np\n",
        "from scipy.stats import spearmanr\n",
        "from scipy.cluster import hierarchy\n",
        "from scipy.spatial.distance import squareform\n",
        "\n",
        "from sklearn.datasets import load_breast_cancer\n",
        "from sklearn.ensemble import RandomForestClassifier\n",
        "from sklearn.inspection import permutation_importance\n",
        "from sklearn.model_selection import train_test_split\n",
        "from sklearn import metrics\n",
        "from sklearn.model_selection import cross_val_score\n",
        "\n",
        "\n",
        "# load the breast_cancer dataset\n",
        "init_data = load_breast_cancer()\n",
        "(X, y) = load_breast_cancer(return_X_y=True)\n",
        "\n",
        "X_train, X_test, y_train, y_test = train_test_split(X, y, test_size=0.33, random_state=42)\n",
        "\n",
        "clf = RandomForestClassifier(max_depth=2, random_state=0)\n",
        "clf.fit(X_train, y_train)\n",
        "\n",
        "# print(X.shape)\n",
        "\n",
        "# TODO Select some features \n",
        "result = permutation_importance(clf, X_train, y_train, n_repeats=10, random_state=42)\n",
        "perm_sorted_idx = result.importances_mean.argsort()\n",
        "\n",
        "corr = spearmanr(X).correlation\n",
        "corr = (corr + corr.T) / 2\n",
        "np.fill_diagonal(corr, 1)\n",
        "\n",
        "distance_matrix = 1 - np.abs(corr)\n",
        "dist_linkage = hierarchy.ward(squareform(distance_matrix))\n",
        "dendro = hierarchy.dendrogram(\n",
        "    dist_linkage, labels=data.feature_names.tolist(), ax=ax1, leaf_rotation=90\n",
        ")\n",
        "dendro_idx = np.arange(0, len(dendro[\"ivl\"]))\n",
        "\n",
        "cluster_ids = hierarchy.fcluster(dist_linkage, 1, criterion=\"distance\")\n",
        "cluster_id_to_feature_ids = defaultdict(list)\n",
        "for idx, cluster_id in enumerate(cluster_ids):\n",
        "    cluster_id_to_feature_ids[cluster_id].append(idx)\n",
        "\n",
        "selected_features = [v[0] for v in cluster_id_to_feature_ids.values()]\n",
        "\n",
        "# TODO need 5 fold cross validation\n",
        "\n",
        "cur_score = cross_val_score(clf, X, y, cv=5)\n",
        "print(cur_score, '\\n', selected_features)\n",
        "print(\"5 fold cross validation score: {:.4f}\".format(cur_score.mean()))\n"
      ]
    },
    {
      "cell_type": "code",
      "source": [
        "# The cross validation indicated that 4 and 11 are the most acurate features but 0 and 5 yield the highest accuracy result\n",
        "\n",
        "selected_features = [0,5]\n",
        "\n",
        "# TODO Tune parameters for RandomForestClassifier\n",
        "X_train_sel = X_train[:, selected_features]\n",
        "X_test_sel = X_test[:, selected_features]\n",
        "\n",
        "clf_sel = RandomForestClassifier(n_estimators=100, random_state=42)\n",
        "clf_sel.fit(X_train_sel, y_train)\n",
        "\n",
        "# TODO Calculate Average accuracy score\n",
        "accuracy = clf_sel.score(X_test_sel, y_test)\n",
        "\n",
        "print(\n",
        "    \"Accuracy on test data with features removed: {:.4f}\".format(\n",
        "        accuracy\n",
        "    )\n",
        ")\n",
        "# TODO Calculate Average (accuracy score/number of features)\n",
        "print(\n",
        "    \"Accuracy per feature: {:.4f}\".format(\n",
        "        accuracy/len(selected_features)\n",
        "    )\n",
        ")\n",
        "\n",
        "\n"
      ],
      "metadata": {
        "colab": {
          "base_uri": "https://localhost:8080/"
        },
        "id": "SF_-dX_sfSJ6",
        "outputId": "478060fe-555d-4aaa-c254-86e868ac4b02"
      },
      "execution_count": 46,
      "outputs": [
        {
          "output_type": "stream",
          "name": "stdout",
          "text": [
            "Accuracy on test data with features removed: 0.9202\n",
            "Accuracy per feature: 0.4601\n"
          ]
        }
      ]
    },
    {
      "cell_type": "code",
      "source": [],
      "metadata": {
        "colab": {
          "base_uri": "https://localhost:8080/"
        },
        "id": "cE6B-uSQo4Rl",
        "outputId": "6d20f94f-0cde-4243-d1ca-96d7e89a8f05"
      },
      "execution_count": 48,
      "outputs": [
        {
          "output_type": "stream",
          "name": "stdout",
          "text": [
            "['mean radius' 'mean compactness']\n"
          ]
        }
      ]
    },
    {
      "cell_type": "code",
      "source": [],
      "metadata": {
        "id": "EU2tUIuzs42j"
      },
      "execution_count": null,
      "outputs": []
    }
  ],
  "metadata": {
    "kernelspec": {
      "display_name": "Python 3",
      "language": "python",
      "name": "python3"
    },
    "language_info": {
      "codemirror_mode": {
        "name": "ipython",
        "version": 3
      },
      "file_extension": ".py",
      "mimetype": "text/x-python",
      "name": "python",
      "nbconvert_exporter": "python",
      "pygments_lexer": "ipython3",
      "version": "3.8.5"
    },
    "colab": {
      "provenance": [],
      "collapsed_sections": []
    }
  },
  "nbformat": 4,
  "nbformat_minor": 0
}
